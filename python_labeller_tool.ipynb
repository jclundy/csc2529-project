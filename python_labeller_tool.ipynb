{
 "cells": [
  {
   "cell_type": "code",
   "execution_count": 7,
   "id": "3125a17c-70e7-4c3a-ab5f-ed3f1cf9ef24",
   "metadata": {},
   "outputs": [],
   "source": [
    "import logging\n",
    "from pylabel import importer\n",
    "import os \n",
    "import zipfile\n"
   ]
  },
  {
   "cell_type": "code",
   "execution_count": 8,
   "id": "dfc1cf33-723d-43be-bc8a-890cf3b169e9",
   "metadata": {},
   "outputs": [
    {
     "name": "stderr",
     "output_type": "stream",
     "text": [
      "Importing image files...: 100%|██████████████████████████████████████████████████████████████████████████████████████████████████████████████████████| 380/380 [00:02<00:00, 189.66it/s]\n"
     ]
    }
   ],
   "source": [
    "dataset = importer.ImportImagesOnly(\"/home/joseph/Documents/project/videos/foosball_videos/foosman_rotation_data_set/Test_0/Top View/jpg/0\")"
   ]
  },
  {
   "cell_type": "code",
   "execution_count": 9,
   "id": "e45a77ae-2e96-446b-a834-ee849a64922f",
   "metadata": {},
   "outputs": [
    {
     "name": "stderr",
     "output_type": "stream",
     "text": [
      "/tmp/ipykernel_425786/872468978.py:6: FutureWarning: You are using `torch.load` with `weights_only=False` (the current default value), which uses the default pickle module implicitly. It is possible to construct malicious pickle data which will execute arbitrary code during unpickling (See https://github.com/pytorch/pytorch/blob/main/SECURITY.md#untrusted-models for more details). In a future release, the default value for `weights_only` will be flipped to `True`. This limits the functions that could be executed during unpickling. Arbitrary objects will no longer be allowed to be loaded via this mode unless they are explicitly allowlisted by the user via `torch.serialization.add_safe_globals`. We recommend you start setting `weights_only=True` for any use case where you don't have full control of the loaded file. Please open an issue on GitHub for any issues related to this experimental feature.\n",
      "  model = torch.load(path_to_model)\n"
     ]
    }
   ],
   "source": [
    "import torch\n",
    "yolov7_dir = \"/home/joseph/Documents/git/yolov7/\"\n",
    "path_to_model = \"/home/joseph/Documents/git/yolov7/runs/train/yolo_foosball_det_1/weights/best.pt\"\n",
    "# model = torch.hub.load(model_dir, 'custom', path=path_to_model\n",
    "\n",
    "model = torch.load(path_to_model)"
   ]
  },
  {
   "cell_type": "code",
   "execution_count": 10,
   "id": "2fae02b9-7bd5-4aeb-91d2-073094ad4bc0",
   "metadata": {},
   "outputs": [
    {
     "ename": "AttributeError",
     "evalue": "'dict' object has no attribute 'conf'",
     "output_type": "error",
     "traceback": [
      "\u001b[0;31m---------------------------------------------------------------------------\u001b[0m",
      "\u001b[0;31mAttributeError\u001b[0m                            Traceback (most recent call last)",
      "Cell \u001b[0;32mIn[10], line 3\u001b[0m\n\u001b[1;32m      1\u001b[0m model_conf \u001b[38;5;241m=\u001b[39m \u001b[38;5;241m0.25\u001b[39m \u001b[38;5;66;03m#@param {type:\"slider\", min:0, max:1, step:0.01}\u001b[39;00m\n\u001b[1;32m      2\u001b[0m model_iou \u001b[38;5;241m=\u001b[39m \u001b[38;5;241m.45\u001b[39m \u001b[38;5;66;03m#@param {type:\"slider\", min:0, max:1, step:0.01}\u001b[39;00m\n\u001b[0;32m----> 3\u001b[0m model\u001b[38;5;241m.\u001b[39mconf \u001b[38;5;241m=\u001b[39m model_conf\n\u001b[1;32m      4\u001b[0m model\u001b[38;5;241m.\u001b[39miou \u001b[38;5;241m=\u001b[39m model_iou\n",
      "\u001b[0;31mAttributeError\u001b[0m: 'dict' object has no attribute 'conf'"
     ]
    }
   ],
   "source": [
    "model_conf = 0.25 #@param {type:\"slider\", min:0, max:1, step:0.01}\n",
    "model_iou = .45 #@param {type:\"slider\", min:0, max:1, step:0.01}\n",
    "model.conf = model_conf\n",
    "model.iou = model_iou"
   ]
  },
  {
   "cell_type": "code",
   "execution_count": 11,
   "id": "342e9424-fd4b-4bb1-a713-36902f7c32d0",
   "metadata": {},
   "outputs": [
    {
     "name": "stderr",
     "output_type": "stream",
     "text": [
      "/home/joseph/anaconda3/envs/csc2529-project/lib/python3.12/site-packages/pylabel/analyze.py:26: FutureWarning: Downcasting behavior in `replace` is deprecated and will be removed in a future version. To retain the old behavior, explicitly call `result.infer_objects(copy=False)`. To opt-in to the future behavior, set `pd.set_option('future.no_silent_downcasting', True)`\n",
      "  self.dataset.df.cat_id = self.dataset.df.cat_id.replace(\n"
     ]
    },
    {
     "data": {
      "application/vnd.jupyter.widget-view+json": {
       "model_id": "e1d37856415e4af4aa2030ebcf8d8f0e",
       "version_major": 2,
       "version_minor": 0
      },
      "text/plain": [
       "VBox(children=(HBox(children=(Label(value='00549.jpg (not annotated)'),)), HBox(children=(Button(icon='arrow-l…"
      ]
     },
     "execution_count": 11,
     "metadata": {},
     "output_type": "execute_result"
    }
   ],
   "source": [
    "dataset.labeler.StartPyLaber(yolo_model=model)"
   ]
  },
  {
   "cell_type": "code",
   "execution_count": null,
   "id": "5da5d78f-9367-4260-9c4a-b5a44703d974",
   "metadata": {},
   "outputs": [],
   "source": []
  }
 ],
 "metadata": {
  "kernelspec": {
   "display_name": "Python 3 (ipykernel)",
   "language": "python",
   "name": "python3"
  },
  "language_info": {
   "codemirror_mode": {
    "name": "ipython",
    "version": 3
   },
   "file_extension": ".py",
   "mimetype": "text/x-python",
   "name": "python",
   "nbconvert_exporter": "python",
   "pygments_lexer": "ipython3",
   "version": "3.12.7"
  }
 },
 "nbformat": 4,
 "nbformat_minor": 5
}
